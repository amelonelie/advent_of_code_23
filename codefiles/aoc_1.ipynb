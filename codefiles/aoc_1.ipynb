{
 "cells": [
  {
   "cell_type": "code",
   "execution_count": 19,
   "id": "178bcb6f-a88f-4ce2-8a93-46d50565f379",
   "metadata": {
    "tags": []
   },
   "outputs": [
    {
     "name": "stdout",
     "output_type": "stream",
     "text": [
      "54927\n",
      "99\n",
      "54591\n"
     ]
    }
   ],
   "source": [
    "import pandas as pd\n",
    "\n",
    "\n",
    "data = pd.read_csv(\"input_1.txt\", header=None)\n",
    "\n",
    "# part 1\n",
    "result = []\n",
    "\n",
    "for index, row in data.iterrows():\n",
    "    numbers_in_item = []\n",
    "    for char in row[0]:\n",
    "        if char.isdigit():\n",
    "            numbers_in_item.append(char)\n",
    "    if numbers_in_item:\n",
    "        number_str = ''.join(numbers_in_item)\n",
    "        if len(number_str) == 1:\n",
    "            result.append(int(number_str * 2))\n",
    "        elif len(number_str) > 2:\n",
    "            result.append(int(number_str[0] + number_str[-1]))\n",
    "        else:\n",
    "            result.append(int(number_str))\n",
    "summe = sum(result)\n",
    "\n",
    "print(summe)\n",
    "\n",
    "# part 2\n",
    "\n",
    "data = pd.read_csv(\"input_1.txt\", header=None)\n",
    "data2 = pd.read_csv(\"testinput.txt\", header = None)\n",
    "\n",
    "keywords = {\n",
    "    'one': 'o1e',\n",
    "    'two': 't2o',\n",
    "    'three': 't3e',\n",
    "    'four': 'f4r',\n",
    "    'five': 'f5e',\n",
    "    'six': 's6x',\n",
    "    'seven': 's7n',\n",
    "    'eight': 'e8t',\n",
    "    'nine': 'n9e'\n",
    "}\n",
    "\n",
    "result2 = []\n",
    "\n",
    "# Iterate through each row in the DataFrame\n",
    "for index, row in data.iterrows():\n",
    "    modified_row = row[0]\n",
    "\n",
    "    # Replace keywords based on their first occurrence in the item\n",
    "    for keyword in keywords:\n",
    "        if keyword in modified_row:\n",
    "            modified_row = modified_row.replace(keyword, keywords[keyword], 1)\n",
    "\n",
    "    numbers_in_item = []\n",
    "    # Iterate through each character in the modified row\n",
    "    for char in modified_row:\n",
    "        if char.isdigit():\n",
    "            numbers_in_item.append(char)\n",
    "    if numbers_in_item:\n",
    "        number_str = ''.join(numbers_in_item)\n",
    "        if len(number_str) == 1:\n",
    "            result2.append(int(number_str * 2))\n",
    "        elif len(number_str) > 2:\n",
    "            result2.append(int(number_str[0] + number_str[-1]))\n",
    "        else:\n",
    "            result2.append(int(number_str))\n",
    "\n",
    "print(result2[993])\n",
    "\n",
    "summe2 = sum(result2)\n",
    "print(summe2)"
   ]
  }
 ],
 "metadata": {
  "kernelspec": {
   "display_name": "Python 3 (ipykernel)",
   "language": "python",
   "name": "python3"
  },
  "language_info": {
   "codemirror_mode": {
    "name": "ipython",
    "version": 3
   },
   "file_extension": ".py",
   "mimetype": "text/x-python",
   "name": "python",
   "nbconvert_exporter": "python",
   "pygments_lexer": "ipython3",
   "version": "3.11.5"
  }
 },
 "nbformat": 4,
 "nbformat_minor": 5
}
