{
 "cells": [
  {
   "cell_type": "code",
   "execution_count": 53,
   "id": "fe4d9a79-5387-4581-a3b6-3cebfd344752",
   "metadata": {
    "tags": []
   },
   "outputs": [],
   "source": [
    "import pandas as pd\n",
    "\n",
    "data = pd.read_table(\"input_2.txt\", encoding = \"UTF-8\", header = None)\n",
    "\n",
    "df = pd.DataFrame(data)\n",
    "\n",
    "\n",
    "games_list = []\n",
    "for index, row in df.iterrows():\n",
    "    parts = row[0].split(';')\n",
    "    for idx, part in enumerate(parts):\n",
    "        games_list.append(f\"game{index + 1}part{idx + 1}: {part.strip()}\")\n",
    "\n",
    "parts = []\n",
    "for part in games_list:\n",
    "    parts.append(part)\n",
    "    \n",
    "test_each_game = 0\n",
    "sum_all_games = 0\n",
    "\n",
    "    \n",
    "thresholds = {\"blue\": 14, \"red\": 12, \"green\": 13}"
   ]
  },
  {
   "cell_type": "code",
   "execution_count": 54,
   "id": "e1213b09-ff51-42d3-9cab-16e2ebee971e",
   "metadata": {
    "tags": []
   },
   "outputs": [],
   "source": [
    "\n",
    "game_data = {}  # Dictionary to store game data\n",
    "\n",
    "# Organize data by game\n",
    "for line in parts:\n",
    "    test_data = line.split(\":\")\n",
    "    game_part, count_color = test_data[0], test_data[-1].strip().split(\",\")  # Extract game part and counts\n",
    "    game_name = game_part.split()[0]  # Extract game name\n",
    "    if game_name not in game_data:\n",
    "        game_data[game_name] = []\n",
    "    game_data[game_name].extend(count_color)\n",
    "    \n",
    "    \n",
    "threshold_exceeded = []\n",
    "threshold_not_exceeded = []\n",
    "# Check threshold for each game\n",
    "for game, parts in game_data.items():\n",
    "    count_colors = [part.strip().split() for part in parts]\n",
    "    exceeded = False\n",
    "    for count_color in count_colors:\n",
    "        count = int(count_color[0])\n",
    "        color = count_color[1]\n",
    "        if count > thresholds.get(color, 0):\n",
    "            exceeded = True\n",
    "            break  # Exit loop if threshold exceeded for any part of the game\n",
    "    if exceeded:\n",
    "        threshold_exceeded.append(game)\n",
    "    else:\n",
    "        threshold_not_exceeded.append(game)"
   ]
  },
  {
   "cell_type": "code",
   "execution_count": 60,
   "id": "f7bd1658-990e-4d66-a1c5-fb9f129510ba",
   "metadata": {
    "tags": []
   },
   "outputs": [
    {
     "name": "stdout",
     "output_type": "stream",
     "text": [
      "[2, 3, 5, 6, 7, 10, 12, 13, 15, 16, 17, 20, 21, 22, 23, 27, 28, 29, 34, 35, 38, 40, 42, 43, 44, 46, 47, 51, 53, 54, 56, 57, 58, 59, 62, 64, 66, 70, 72, 75, 77, 78, 79, 84, 85, 87, 88, 90, 91, 94, 95, 96, 97, 99, 100]\n"
     ]
    },
    {
     "data": {
      "text/plain": [
       "2782"
      ]
     },
     "execution_count": 60,
     "metadata": {},
     "output_type": "execute_result"
    }
   ],
   "source": [
    "unique_numbers = set()\n",
    "\n",
    "for item in threshold_exceeded:\n",
    "    number = item.split('game')[-1].split('part')[0]  # Extract numbers after 'game' and before 'part'\n",
    "    unique_numbers.add(int(number))  # Add unique numbers to set\n",
    "\n",
    "unique_numbers_list = sorted(list(unique_numbers))  # Convert set to a sorted list"
   ]
  },
  {
   "cell_type": "code",
   "execution_count": 61,
   "id": "ba91b7cd-19c6-4b19-b281-b68ece95ed0e",
   "metadata": {
    "tags": []
   },
   "outputs": [
    {
     "name": "stdout",
     "output_type": "stream",
     "text": [
      "[1, 2, 3, 4, 5, 6, 7, 8, 9, 10, 11, 12, 13, 14, 15, 16, 17, 18, 19, 20, 21, 22, 23, 24, 25, 26, 27, 28, 29, 30, 31, 32, 33, 34, 35, 36, 37, 38, 39, 40, 41, 42, 43, 44, 45, 46, 47, 48, 49, 50, 51, 52, 53, 54, 55, 56, 57, 58, 59, 60, 61, 62, 63, 64, 65, 66, 67, 68, 69, 70, 71, 72, 73, 74, 75, 76, 77, 78, 79, 80, 81, 82, 83, 84, 85, 86, 87, 88, 89, 90, 91, 92, 93, 94, 95, 96, 97, 98, 99, 100]\n",
      "2268\n"
     ]
    }
   ],
   "source": [
    "vector_numbers = [num for num in range(1, 101)]\n",
    "print(vector_numbers)\n",
    "result = sum(vector_numbers)-sum(unique_numbers_list)\n",
    "print(result)"
   ]
  }
 ],
 "metadata": {
  "kernelspec": {
   "display_name": "Python 3 (ipykernel)",
   "language": "python",
   "name": "python3"
  },
  "language_info": {
   "codemirror_mode": {
    "name": "ipython",
    "version": 3
   },
   "file_extension": ".py",
   "mimetype": "text/x-python",
   "name": "python",
   "nbconvert_exporter": "python",
   "pygments_lexer": "ipython3",
   "version": "3.11.5"
  }
 },
 "nbformat": 4,
 "nbformat_minor": 5
}
