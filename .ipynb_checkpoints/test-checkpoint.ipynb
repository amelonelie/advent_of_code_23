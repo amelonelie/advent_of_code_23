{
 "cells": [
  {
   "cell_type": "code",
   "execution_count": 1,
   "id": "87db662a-c0e6-4118-bb79-430c8ba4d4ad",
   "metadata": {
    "tags": []
   },
   "outputs": [],
   "source": [
    "import pandas as pd\n",
    "\n",
    "# Assuming the data is read from a file and stored in df as a DataFrame\n",
    "data = pd.read_table(\"input_2.txt\", encoding=\"UTF-8\", header=None)\n",
    "df = pd.DataFrame(data)\n",
    "\n",
    "games_list = []\n",
    "for index, row in df.iterrows():\n",
    "    parts = str(row[0]).split(';')  # Convert row content to string before splitting\n",
    "    for idx, part in enumerate(parts):\n",
    "        games_list.append(f\"game{index + 1}part{idx + 1}: {part.strip()}\")\n",
    "\n",
    "thresholds = {\"blue\": 14, \"red\": 12, \"green\": 13}\n",
    "\n",
    "for part in games_list:\n",
    "    colors = {'blue': 0, 'red': 0, 'green': 0}\n",
    "    elements = part.split(': ')[1].split(', ')\n",
    "    for element in elements:\n",
    "        color, count = element.split()\n",
    "        if color in colors:\n",
    "            colors[color] += int(count)\n",
    "\n",
    "    for color, number in colors.items():\n",
    "        if number > thresholds[color]:\n",
    "            print(f\"Threshold exceeded in {part} for {color} ({number} > {thresholds[color]})\")"
   ]
  }
 ],
 "metadata": {
  "kernelspec": {
   "display_name": "Python 3 (ipykernel)",
   "language": "python",
   "name": "python3"
  },
  "language_info": {
   "codemirror_mode": {
    "name": "ipython",
    "version": 3
   },
   "file_extension": ".py",
   "mimetype": "text/x-python",
   "name": "python",
   "nbconvert_exporter": "python",
   "pygments_lexer": "ipython3",
   "version": "3.11.5"
  }
 },
 "nbformat": 4,
 "nbformat_minor": 5
}
