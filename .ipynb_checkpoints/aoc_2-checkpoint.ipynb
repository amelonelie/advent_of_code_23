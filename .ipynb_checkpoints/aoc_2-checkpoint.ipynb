{
 "cells": [
  {
   "cell_type": "code",
   "execution_count": 63,
   "id": "fe4d9a79-5387-4581-a3b6-3cebfd344752",
   "metadata": {
    "tags": []
   },
   "outputs": [
    {
     "name": "stdout",
     "output_type": "stream",
     "text": [
      "2268\n"
     ]
    }
   ],
   "source": [
    "import pandas as pd\n",
    "\n",
    "data = pd.read_table(\"input_2.txt\", encoding = \"UTF-8\", header = None)\n",
    "df = pd.DataFrame(data)\n",
    "\n",
    "\n",
    "games_list = []\n",
    "for index, row in df.iterrows():\n",
    "    parts = row[0].split(';')\n",
    "    for idx, part in enumerate(parts):\n",
    "        games_list.append(f\"game{index + 1}part{idx + 1}: {part.strip()}\")\n",
    "\n",
    "parts = []\n",
    "for part in games_list:\n",
    "    parts.append(part)\n",
    "    \n",
    "test_each_game = 0\n",
    "sum_all_games = 0\n",
    "\n",
    "    \n",
    "thresholds = {\"blue\": 14, \"red\": 12, \"green\": 13}\n",
    "game_data = {}  \n",
    "\n",
    "\n",
    "for line in parts:\n",
    "    test_data = line.split(\":\")\n",
    "    game_part, count_color = test_data[0], test_data[-1].strip().split(\",\")  \n",
    "    game_name = game_part.split()[0] \n",
    "    if game_name not in game_data:\n",
    "        game_data[game_name] = []\n",
    "    game_data[game_name].extend(count_color)\n",
    "    \n",
    "    \n",
    "threshold_exceeded = []\n",
    "threshold_not_exceeded = []\n",
    "\n",
    "for game, parts in game_data.items():\n",
    "    count_colors = [part.strip().split() for part in parts]\n",
    "    exceeded = False\n",
    "    for count_color in count_colors:\n",
    "        count = int(count_color[0])\n",
    "        color = count_color[1]\n",
    "        if count > thresholds.get(color, 0):\n",
    "            exceeded = True\n",
    "            break\n",
    "    if exceeded:\n",
    "        threshold_exceeded.append(game)\n",
    "    else:\n",
    "        threshold_not_exceeded.append(game)\n",
    "        \n",
    "unique_numbers = set()\n",
    "\n",
    "for item in threshold_exceeded:\n",
    "    number = item.split('game')[-1].split('part')[0]\n",
    "    unique_numbers.add(int(number))\n",
    "\n",
    "unique_numbers_list = sorted(list(unique_numbers))   \n",
    "\n",
    "vector_numbers = [num for num in range(1, 101)]\n",
    "result = sum(vector_numbers)-sum(unique_numbers_list)\n",
    "print(result)"
   ]
  }
 ],
 "metadata": {
  "kernelspec": {
   "display_name": "Python 3 (ipykernel)",
   "language": "python",
   "name": "python3"
  },
  "language_info": {
   "codemirror_mode": {
    "name": "ipython",
    "version": 3
   },
   "file_extension": ".py",
   "mimetype": "text/x-python",
   "name": "python",
   "nbconvert_exporter": "python",
   "pygments_lexer": "ipython3",
   "version": "3.11.5"
  }
 },
 "nbformat": 4,
 "nbformat_minor": 5
}
