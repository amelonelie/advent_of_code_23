{
 "cells": [
  {
   "cell_type": "code",
   "execution_count": 70,
   "id": "178bcb6f-a88f-4ce2-8a93-46d50565f379",
   "metadata": {
    "tags": []
   },
   "outputs": [
    {
     "name": "stdout",
     "output_type": "stream",
     "text": [
      "54927\n",
      "[2, 4, 6, 8, 4, 24, 14]\n",
      "62\n"
     ]
    }
   ],
   "source": [
    "import pandas as pd\n",
    "import re\n",
    "\n",
    "data = pd.read_csv(\"input_1.txt\", header=None)\n",
    "\n",
    "# part 1\n",
    "result = []\n",
    "\n",
    "for index, row in data.iterrows():\n",
    "    numbers_in_item = []\n",
    "    for char in row[0]:\n",
    "        if char.isdigit():\n",
    "            numbers_in_item.append(char)\n",
    "    if numbers_in_item:\n",
    "        number_str = ''.join(numbers_in_item)\n",
    "        if len(number_str) == 1:\n",
    "            result.append(int(number_str * 2))\n",
    "        elif len(number_str) > 2:\n",
    "            result.append(int(number_str[0] + number_str[-1]))\n",
    "        else:\n",
    "            result.append(int(number_str))\n",
    "summe = sum(result)\n",
    "\n",
    "print(summe)\n",
    "\n",
    "# part 2\n",
    "keywords = {\n",
    "    'one': '1',\n",
    "    'two': '2',\n",
    "    'three': '3',\n",
    "    'four': '4',\n",
    "    'five': '5',\n",
    "    'six': '6',\n",
    "    'seven': '7',\n",
    "    'eight': '8',\n",
    "    'nine': '9'\n",
    "}\n",
    "\n",
    "result2 = []\n",
    "\n",
    "data2 = pd.read_csv(\"testinput.txt\", header=None)\n",
    "\n",
    "\n",
    "# Function to replace keywords with numbers in a controlled manner\n",
    "def replace_keywords(text):\n",
    "    words = text.split()\n",
    "    replaced_words = []\n",
    "    for word in words:\n",
    "        if word in keywords:\n",
    "            replaced_words.append(keywords[word])\n",
    "        else:\n",
    "            replaced_words.append(word)\n",
    "    return ' '.join(replaced_words)\n",
    "\n",
    "# Iterate through each row in the DataFrame\n",
    "for index, row in data2.iterrows():\n",
    "    modified_row = row[0]\n",
    "\n",
    "    # Replace keywords with associated numbers in a controlled manner\n",
    "    modified_row = replace_keywords(modified_row)\n",
    "\n",
    "    # Process the modified string to extract numbers separately\n",
    "    numbers = ''.join([char if char.isdigit() else ' ' for char in modified_row]).split()\n",
    "    for number in numbers:\n",
    "        if len(number) == 1:\n",
    "            result2.append(int(number) * 2)\n",
    "        elif len(number) > 2:\n",
    "            result2.append(int(number[0] + number[-1]))\n",
    "        else:\n",
    "            result2.append(int(number))\n",
    "\n",
    "print(result2)\n",
    "summe2 = sum(result2)\n",
    "print(summe2)"
   ]
  }
 ],
 "metadata": {
  "kernelspec": {
   "display_name": "Python 3 (ipykernel)",
   "language": "python",
   "name": "python3"
  },
  "language_info": {
   "codemirror_mode": {
    "name": "ipython",
    "version": 3
   },
   "file_extension": ".py",
   "mimetype": "text/x-python",
   "name": "python",
   "nbconvert_exporter": "python",
   "pygments_lexer": "ipython3",
   "version": "3.11.5"
  }
 },
 "nbformat": 4,
 "nbformat_minor": 5
}
