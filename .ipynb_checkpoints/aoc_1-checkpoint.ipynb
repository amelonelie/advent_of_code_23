{
 "cells": [
  {
   "cell_type": "code",
   "execution_count": 27,
   "id": "178bcb6f-a88f-4ce2-8a93-46d50565f379",
   "metadata": {
    "tags": []
   },
   "outputs": [
    {
     "name": "stdout",
     "output_type": "stream",
     "text": [
      "54927\n"
     ]
    }
   ],
   "source": [
    "import pandas as pd\n",
    "\n",
    "data = pd.read_csv(\"input_1.txt\", header=None)\n",
    "\n",
    "result = []\n",
    "\n",
    "for index, row in data.iterrows():\n",
    "    numbers_in_item = []\n",
    "    for char in row[0]:\n",
    "        if char.isdigit():\n",
    "            numbers_in_item.append(char)\n",
    "    if numbers_in_item:\n",
    "        number_str = ''.join(numbers_in_item)\n",
    "        if len(number_str) == 1:\n",
    "            result.append(int(number_str * 2))\n",
    "        elif len(number_str) > 2:\n",
    "            result.append(int(number_str[0] + number_str[-1]))\n",
    "        else:\n",
    "            result.append(int(number_str))\n",
    "\n",
    "summe = sum(result)\n",
    "\n",
    "print(summe)\n"
   ]
  }
 ],
 "metadata": {
  "kernelspec": {
   "display_name": "Python 3 (ipykernel)",
   "language": "python",
   "name": "python3"
  },
  "language_info": {
   "codemirror_mode": {
    "name": "ipython",
    "version": 3
   },
   "file_extension": ".py",
   "mimetype": "text/x-python",
   "name": "python",
   "nbconvert_exporter": "python",
   "pygments_lexer": "ipython3",
   "version": "3.11.5"
  }
 },
 "nbformat": 4,
 "nbformat_minor": 5
}
